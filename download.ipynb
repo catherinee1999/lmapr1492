{
 "cells": [
  {
   "cell_type": "code",
   "execution_count": 8,
   "id": "becoming-metallic",
   "metadata": {},
   "outputs": [],
   "source": [
    "from pymatgen import Structure\n",
    "from pymatgen.symmetry.analyzer import SpacegroupAnalyzer\n",
    "from pymatgen.analysis.bond_valence import BVAnalyzer\n",
    "from pymatgen.core.composition import Composition\n",
    "from jupyter_jsmol.pymatgen import quick_view\n",
    "from pymatgen.ext.matproj import MPRester\n",
    "from pymatgen.apps.borg.hive import VaspToComputedEntryDrone\n",
    "from pymatgen.apps.borg.queen import BorgQueen\n",
    "from pymatgen.entries.compatibility import MaterialsProjectCompatibility\n",
    "from pymatgen.analysis.phase_diagram import PhaseDiagram, PDPlotter\n"
   ]
  },
  {
   "cell_type": "code",
   "execution_count": 12,
   "id": "arctic-bhutan",
   "metadata": {},
   "outputs": [],
   "source": [
    "with MPRester(\"TD3CpcK0oJ60Lhc1ZD\") as m:\n",
    "\n",
    "    # Structure for material id\n",
    "    structure = m.get_structure_by_material_id(\"mp-754825\")\n",
    "    #Dos for material id\n",
    "    dos = m.get_dos_by_material_id(\"mp-754825\")\n",
    "    #Bandstructure for material id \n",
    "    bandstuctures = m.get_bandstructure_by_material_id(\"mp-754825\")\n",
    "    "
   ]
  },
  {
   "cell_type": "code",
   "execution_count": 13,
   "id": "associate-nashville",
   "metadata": {},
   "outputs": [
    {
     "name": "stdout",
     "output_type": "stream",
     "text": [
      "Full Formula (Na1 Tm1 O2)\n",
      "Reduced Formula: NaTmO2\n",
      "abc   :   5.889261   5.889261   5.889261\n",
      "angles:  33.200097  33.200097  33.200096\n",
      "Sites (4)\n",
      "  #  SP           a         b         c    magmom\n",
      "---  ----  --------  --------  --------  --------\n",
      "  0  Na    0.5       0.5       0.5             -0\n",
      "  1  Tm    0         0         0                0\n",
      "  2  O     0.263788  0.263788  0.263788        -0\n",
      "  3  O     0.736212  0.736212  0.736212        -0\n"
     ]
    }
   ],
   "source": [
    "print(structure)"
   ]
  },
  {
   "cell_type": "code",
   "execution_count": 14,
   "id": "thousand-ceramic",
   "metadata": {},
   "outputs": [],
   "source": [
    "structure.to(filename=\"NaTmO2.cif\")"
   ]
  },
  {
   "cell_type": "code",
   "execution_count": null,
   "id": "behind-packing",
   "metadata": {},
   "outputs": [],
   "source": []
  }
 ],
 "metadata": {
  "kernelspec": {
   "display_name": "Python 3",
   "language": "python",
   "name": "python3"
  },
  "language_info": {
   "codemirror_mode": {
    "name": "ipython",
    "version": 3
   },
   "file_extension": ".py",
   "mimetype": "text/x-python",
   "name": "python",
   "nbconvert_exporter": "python",
   "pygments_lexer": "ipython3",
   "version": "3.6.8"
  }
 },
 "nbformat": 4,
 "nbformat_minor": 5
}
