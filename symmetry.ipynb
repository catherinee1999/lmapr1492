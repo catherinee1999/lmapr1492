{
 "cells": [
  {
   "cell_type": "code",
   "execution_count": 1,
   "id": "textile-peninsula",
   "metadata": {},
   "outputs": [],
   "source": [
    "from pymatgen.ext.matproj import MPRester\n",
    "from pymatgen.io.cif import CifWriter\n",
    "from pymatgen.symmetry.analyzer import *\n",
    "from pymatgen.io.cif import *\n",
    "from pymatgen.core.operations import *\n",
    "from pymatgen.symmetry.site_symmetries import *\n",
    "import matplotlib.pyplot as plt\n",
    "import matplotlib.image as img\n",
    "from pymatgen import Structure\n",
    "from pymatgen.symmetry.analyzer import SpacegroupAnalyzer\n",
    "from pymatgen.analysis.bond_valence import BVAnalyzer\n",
    "from pymatgen.core.composition import Composition\n",
    "from jupyter_jsmol.pymatgen import quick_view"
   ]
  },
  {
   "cell_type": "code",
   "execution_count": 2,
   "id": "weighted-bikini",
   "metadata": {},
   "outputs": [],
   "source": [
    "with MPRester(\"TD3CpcK0oJ60Lhc1ZD\") as m:\n",
    "    info = m.get_structure_by_material_id(\"mp-754825\")\n",
    "info.to(filename=\"NaTmO2.cif\")   "
   ]
  },
  {
   "cell_type": "code",
   "execution_count": 3,
   "id": "primary-decline",
   "metadata": {},
   "outputs": [],
   "source": [
    "struct = Structure.from_file(\"NaTmO2.cif\")\n"
   ]
  },
  {
   "cell_type": "code",
   "execution_count": 4,
   "id": "activated-mileage",
   "metadata": {},
   "outputs": [],
   "source": [
    "a= SpacegroupAnalyzer(struct).get_symmetry_operations()\n",
    "\n",
    "symetrie_1 = a[1]\n",
    "symetrie_2 = a[6]\n",
    "symetrie_3 = a[11]\n",
    "\n",
    "#atomes \n",
    "Na0_initial = [0.50000000,0.50000000,0.50000000]\n",
    "O2_initial = [0.26378800,0.26378800,0.26378800]\n",
    "O3_initial = [0.73621200,0.73621200,0.73621200]\n",
    "\n",
    "#on applique les symmétries aux atomes \n",
    "Na0_symm = symetrie_1.operate(Na0_initial)#0\n",
    "O2_symm = symetrie_2.operate(O2_initial)#3\n",
    "O3_symm = symetrie_3.operate(O3_initial)#5"
   ]
  },
  {
   "cell_type": "code",
   "execution_count": 8,
   "id": "latter-embassy",
   "metadata": {},
   "outputs": [
    {
     "name": "stdout",
     "output_type": "stream",
     "text": [
      "Prémière symmétrie\n",
      " \n",
      "Atome de départ:Na  [0.5, 0.5, 0.5]\n",
      "opération de symétrie appliquée: Inversion  \n",
      "Rot:\n",
      "[[-1.  0.  0.]\n",
      " [ 0. -1.  0.]\n",
      " [ 0.  0. -1.]]\n",
      "tau\n",
      "[0. 0. 0.]\n",
      "atome après la symétrie:  [-0.5 -0.5 -0.5]\n",
      "image:\n"
     ]
    },
    {
     "data": {
      "application/vnd.jupyter.widget-view+json": {
       "model_id": "f6d154b32cda4de28e4d19cca9b9c6ee",
       "version_major": 2,
       "version_minor": 0
      },
      "text/plain": [
       "JsmolView(layout=Layout(align_self='stretch', height='400px'))"
      ]
     },
     "metadata": {},
     "output_type": "display_data"
    }
   ],
   "source": [
    "print(\"Prémière symmétrie\")\n",
    "print(\" \")\n",
    "print(\"Atome de départ:Na \",Na0_initial)\n",
    "print(\"opération de symétrie appliquée: Inversion  \")\n",
    "print(symetrie_1)\n",
    "print(\"atome après la symétrie: \",Na0_symm )\n",
    "print(\"image:\")\n",
    "view1 = quick_view(struct)\n",
    "display(view1)\n",
    "view1.script(\"draw symop 2 {atomno=0}\")"
   ]
  },
  {
   "cell_type": "code",
   "execution_count": 9,
   "id": "identical-spoke",
   "metadata": {},
   "outputs": [
    {
     "name": "stdout",
     "output_type": "stream",
     "text": [
      "Deuxième symmétrie\n",
      " \n",
      "Atome de départ:O  [0.263788, 0.263788, 0.263788]\n",
      "opération de symétrie appliquée: Roto inversion \n",
      "Rot:\n",
      "[[ 0.  0. -1.]\n",
      " [ 0. -1.  0.]\n",
      " [-1.  0.  0.]]\n",
      "tau\n",
      "[0. 0. 0.]\n",
      "atome après la symétrie:  [-0.263788 -0.263788 -0.263788]\n",
      "image: \n"
     ]
    },
    {
     "data": {
      "application/vnd.jupyter.widget-view+json": {
       "model_id": "b23aa5e0638b4375984a40934fa8aec0",
       "version_major": 2,
       "version_minor": 0
      },
      "text/plain": [
       "JsmolView(layout=Layout(align_self='stretch', height='400px'))"
      ]
     },
     "metadata": {},
     "output_type": "display_data"
    }
   ],
   "source": [
    "print(\"Deuxième symmétrie\")\n",
    "print(\" \")\n",
    "print(\"Atome de départ:O \",O2_initial)\n",
    "print(\"opération de symétrie appliquée: Roto inversion \")\n",
    "print(symetrie_2)\n",
    "print(\"atome après la symétrie: \",O2_symm )\n",
    "print(\"image: \")\n",
    "view2 = quick_view(struct)\n",
    "display(view2)\n",
    "view2.script(\"draw symop 7 {atomno=3}\")\n"
   ]
  },
  {
   "cell_type": "code",
   "execution_count": 10,
   "id": "happy-shelter",
   "metadata": {},
   "outputs": [
    {
     "name": "stdout",
     "output_type": "stream",
     "text": [
      "Troisième  symmétrie\n",
      " \n",
      "Atome de départ:O  [0.736212, 0.736212, 0.736212]\n",
      "opération de symétrie appliquée: Rotation selon l'axe 3 \n",
      "Rot:\n",
      "[[1. 0. 0.]\n",
      " [0. 0. 1.]\n",
      " [0. 1. 0.]]\n",
      "tau\n",
      "[0. 0. 0.]\n",
      "atome après la symétrie:  [0.736212 0.736212 0.736212]\n",
      "image: \n"
     ]
    },
    {
     "data": {
      "application/vnd.jupyter.widget-view+json": {
       "model_id": "a4c6f6d819d74b639d6a2367beb32284",
       "version_major": 2,
       "version_minor": 0
      },
      "text/plain": [
       "JsmolView(layout=Layout(align_self='stretch', height='400px'))"
      ]
     },
     "metadata": {},
     "output_type": "display_data"
    }
   ],
   "source": [
    "print(\"Troisième  symmétrie\")\n",
    "print(\" \")\n",
    "print(\"Atome de départ:O \",O3_initial)\n",
    "print(\"opération de symétrie appliquée: Rotation selon l'axe 3 \")\n",
    "print(symetrie_3)\n",
    "print(\"atome après la symétrie: \",O3_symm )\n",
    "print(\"image: \")\n",
    "view3 = quick_view(struct)\n",
    "display(view3)\n",
    "view3.script(\"draw symop 12 {atomno=5}\")"
   ]
  },
  {
   "cell_type": "code",
   "execution_count": null,
   "id": "experimental-hamburg",
   "metadata": {},
   "outputs": [],
   "source": []
  }
 ],
 "metadata": {
  "kernelspec": {
   "display_name": "Python 3",
   "language": "python",
   "name": "python3"
  },
  "language_info": {
   "codemirror_mode": {
    "name": "ipython",
    "version": 3
   },
   "file_extension": ".py",
   "mimetype": "text/x-python",
   "name": "python",
   "nbconvert_exporter": "python",
   "pygments_lexer": "ipython3",
   "version": "3.6.8"
  }
 },
 "nbformat": 4,
 "nbformat_minor": 5
}
