{
 "cells": [
  {
   "cell_type": "code",
   "execution_count": 1,
   "id": "brave-hamilton",
   "metadata": {},
   "outputs": [],
   "source": [
    "from pymatgen.ext.matproj import MPRester\n",
    "from pymatgen.symmetry.analyzer import SpacegroupAnalyzer\n"
   ]
  },
  {
   "cell_type": "code",
   "execution_count": 2,
   "id": "studied-melbourne",
   "metadata": {},
   "outputs": [],
   "source": [
    "with MPRester(\"TD3CpcK0oJ60Lhc1ZD\") as m:\n",
    "    struct = m.get_structure_by_material_id(\"mp-754825\")\n",
    "    "
   ]
  },
  {
   "cell_type": "code",
   "execution_count": 4,
   "id": "modern-deadline",
   "metadata": {},
   "outputs": [
    {
     "name": "stdout",
     "output_type": "stream",
     "text": [
      "Vecteurs de base du réseau direct: \n",
      "5.643810 -1.682498 0.000000\n",
      "5.643810 1.682498 0.000000\n",
      "5.142234 0.000000 2.870683\n",
      " \n",
      "longueurs: \n",
      "a =  5.889260635776277\n",
      "b =  5.889260635776277\n",
      "c =  5.889260683417317\n",
      " \n",
      "angles: \n",
      "alpha =  33.20009740070366\n",
      "beta =  33.20009740070366\n",
      "gamma =  33.20009631663776\n",
      " \n"
     ]
    }
   ],
   "source": [
    "#coordonnees du reseau direct\n",
    "print(\"Vecteurs de base du réseau direct: \")\n",
    "vect= struct.lattice\n",
    "abc= vect.abc\n",
    "angle= vect.angles\n",
    "print(vect)\n",
    "print(\" \")\n",
    "print(\"longueurs: \")\n",
    "\n",
    "print(\"a = \", abc[0])\n",
    "print(\"b = \", abc[1])\n",
    "print(\"c = \", abc[2])\n",
    "print(\" \")\n",
    "print(\"angles: \")\n",
    "\n",
    "print(\"alpha = \", angle[0])\n",
    "print(\"beta = \", angle[1])\n",
    "print(\"gamma = \", angle[2])\n",
    "print(\" \")\n"
   ]
  },
  {
   "cell_type": "code",
   "execution_count": 6,
   "id": "specified-surgeon",
   "metadata": {},
   "outputs": [
    {
     "name": "stdout",
     "output_type": "stream",
     "text": [
      "Vecteurs de base du réseau réciproque : \n",
      "0.556644 -1.867219 -0.997112\n",
      "0.556644 1.867219 -0.997112\n",
      "0.000000 0.000000 2.188742\n",
      " \n",
      "longueurs: \n",
      "a =  5.889260635776277\n",
      "b =  5.889260635776277\n",
      "c =  5.889260683417317\n",
      " \n",
      "angles: \n",
      "alpha =  33.20009740070366\n",
      "beta =  33.20009740070366\n",
      "gamma =  33.20009631663776\n",
      " \n"
     ]
    }
   ],
   "source": [
    "#coordonnees du reseau reciproque \n",
    "print(\"Vecteurs de base du réseau réciproque : \")\n",
    "vect_re= struct.lattice.reciprocal_lattice\n",
    "abc_re= vect.abc\n",
    "angle_re= vect.angles\n",
    "print(vect_re)\n",
    "print(\" \")\n",
    "print(\"longueurs: \")\n",
    "\n",
    "print(\"a = \", abc_re[0])\n",
    "print(\"b = \", abc_re[1])\n",
    "print(\"c = \", abc_re[2])\n",
    "print(\" \")\n",
    "print(\"angles: \")\n",
    "\n",
    "print(\"alpha = \", angle_re[0])\n",
    "print(\"beta = \", angle_re[1])\n",
    "print(\"gamma = \", angle_re[2])\n",
    "print(\" \")\n"
   ]
  },
  {
   "cell_type": "code",
   "execution_count": 7,
   "id": "toxic-verse",
   "metadata": {},
   "outputs": [
    {
     "name": "stdout",
     "output_type": "stream",
     "text": [
      "type de maille: \n",
      "rhombohedral\n"
     ]
    }
   ],
   "source": [
    "#type de maille\n",
    "print(\"type de maille: \")\n",
    "lat = SpacegroupAnalyzer(struct).get_lattice_type()\n",
    "print(lat[:])"
   ]
  },
  {
   "cell_type": "code",
   "execution_count": 8,
   "id": "original-parent",
   "metadata": {},
   "outputs": [
    {
     "name": "stdout",
     "output_type": "stream",
     "text": [
      "système cristallin: \n",
      "trigonal\n"
     ]
    }
   ],
   "source": [
    "#système cristallin \n",
    "print(\"système cristallin: \")\n",
    "syst = SpacegroupAnalyzer(struct).get_crystal_system()\n",
    "print(syst[:])"
   ]
  },
  {
   "cell_type": "code",
   "execution_count": 10,
   "id": "prospective-eagle",
   "metadata": {},
   "outputs": [
    {
     "name": "stdout",
     "output_type": "stream",
     "text": [
      "Groupe ponctuel: \n",
      "-3m\n"
     ]
    }
   ],
   "source": [
    "#groupe ponctuel \n",
    "print(\"Groupe ponctuel: \")\n",
    "grp = SpacegroupAnalyzer(struct).get_point_group_symbol()\n",
    "print(grp)"
   ]
  },
  {
   "cell_type": "code",
   "execution_count": null,
   "id": "recorded-moses",
   "metadata": {},
   "outputs": [],
   "source": []
  }
 ],
 "metadata": {
  "kernelspec": {
   "display_name": "Python 3",
   "language": "python",
   "name": "python3"
  },
  "language_info": {
   "codemirror_mode": {
    "name": "ipython",
    "version": 3
   },
   "file_extension": ".py",
   "mimetype": "text/x-python",
   "name": "python",
   "nbconvert_exporter": "python",
   "pygments_lexer": "ipython3",
   "version": "3.6.8"
  }
 },
 "nbformat": 4,
 "nbformat_minor": 5
}
